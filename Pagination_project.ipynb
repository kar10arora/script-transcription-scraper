{
 "cells": [
  {
   "cell_type": "code",
   "execution_count": 42,
   "id": "2bb60397-480a-410c-bd35-b51bd6e66f43",
   "metadata": {},
   "outputs": [],
   "source": [
    "from bs4 import BeautifulSoup\n",
    "import requests"
   ]
  },
  {
   "cell_type": "code",
   "execution_count": 43,
   "id": "311e38aa-a53c-43aa-9449-721289495eed",
   "metadata": {},
   "outputs": [],
   "source": [
    "root_web = \"https://subslikescript.com/movies\""
   ]
  },
  {
   "cell_type": "code",
   "execution_count": 44,
   "id": "d157dc2c-9a1a-4cb8-bbf4-c9b8b649ec71",
   "metadata": {},
   "outputs": [
    {
     "data": {
      "text/plain": [
       "'<!DOCTYPE html>\\n<html dir=\"ltr\" lang=\"en\">\\n <head>\\n  <!-- Global site tag (gtag.js) - Google Analytics -->\\n  <script async=\"\" src=\"https://www.googletagmanager.com/gtag/js?id=UA-120598793-1\">\\n  </script>\\n  <script>\\n   window.dataLayer = window.dataLayer || [];\\n  function gtag(){dataLayer.push(arguments);}\\n  gtag(\\'js\\', new Date());\\n\\n  gtag(\\'config\\', \\'UA-120598793-1\\');\\n  </script>\\n  <meta charset=\"utf-8\"/>\\n  <title>\\n   All English transcripts for movies  | Subs like Script\\n  </title>\\n  <meta content=\"List of movie scripts \" name=\"description\"/>\\n  <meta content=\"transcript, movie, subtitles, scripts, film, video, media, subs, srt \" name=\"keywords\"/>\\n  <meta content=\"width=device-width, initial-scale=1\" name=\"viewport\"/>\\n  <meta content=\"index, follow\" name=\"robots\"/>\\n  <link href=\"/favicon.ico\" rel=\"shortcut icon\"/>\\n  <meta content=\"Eweg0IFLPIBmt2DmCX0mWZKHUq621CaKe1dpSZPC\" name=\"csrf-token\"/>\\n  <link as=\"style\" href=\"https://subslikescript.com/build/assets/app-aqNRnyHK.css\" rel=\"preload\"/>\\n  <link as=\"style\" href=\"https://subslikescript.com/build/assets/app-BAFNq7zh.css\" rel=\"preload\"/>\\n  <link href=\"https://subslikescript.com/build/assets/app-Cj664GvU.js\" rel=\"modulepreload\"/>\\n  <link href=\"https://subslikescript.com/build/assets/app-aqNRnyHK.css\" rel=\"stylesheet\"/>\\n  <link href=\"https://subslikescript.com/build/assets/app-BAFNq7zh.css\" rel=\"stylesheet\"/>\\n  <script src=\"https://subslikescript.com/build/assets/app-Cj664GvU.js\" type=\"module\">\\n  </script>\\n  <script async=\"\" crossorigin=\"anonymous\" src=\"https://pagead2.googlesyndication.com/pagead/js/adsbygoogle.js?client=ca-pub-9736463211397065\">\\n  </script>\\n </head>\\n <body>\\n  <div class=\"page-wrapper\">\\n   <header>\\n    <div id=\"logo\">\\n     <a href=\"/\" title=\"Subs like Script - all Movies and TV Shows Transcripts\">\\n      <span>\\n       SUBSLIKESCRIPT\\n      </span>\\n     </a>\\n    </div>\\n    <nav>\\n     <a href=\"/movies\" target=\"_self\" title=\"All movies transcripts\">\\n      Movies\\n     </a>\\n     <a href=\"/series\" target=\"_self\" title=\"All Tv Shows transcripts\">\\n      TV Shows\\n     </a>\\n    </nav>\\n   </header>\\n   <div class=\"main-wrapper\">\\n    <main class=\"mainpage\">\\n     <nav>\\n      <ul class=\"breadcrumb\">\\n       <li>\\n        <a href=\"/\">\\n         Home\\n        </a>\\n       </li>\\n       <li>\\n        Movies\\n       </li>\\n      </ul>\\n     </nav>\\n     <nav>\\n      <form action=\"https://subslikescript.com/search\" class=\"searchzone\" method=\"get\" name=\"search\">\\n       <input class=\"searchbox\" name=\"q\" type=\"text\" value=\"\"/>\\n       <button class=\"searchbutton\">\\n        Search\\n       </button>\\n      </form>\\n     </nav>\\n     <nav>\\n      <ul class=\"first_letter_menu\">\\n       <li>\\n        <a href=\"/movies_letter-sign\" title=\"Movies whose names start with a sign or a digit\">\\n         [sign or digit]\\n        </a>\\n       </li>\\n       <li>\\n        <a href=\"/movies_letter-A\" title=\\'Movies transcripts starting with letter \"A\"\\'>\\n         A\\n        </a>\\n       </li>\\n       <li>\\n        <a href=\"/movies_letter-B\" title=\\'Movies transcripts starting with letter \"B\"\\'>\\n         B\\n        </a>\\n       </li>\\n       <li>\\n        <a href=\"/movies_letter-C\" title=\\'Movies transcripts starting with letter \"C\"\\'>\\n         C\\n        </a>\\n       </li>\\n       <li>\\n        <a href=\"/movies_letter-D\" title=\\'Movies transcripts starting with letter \"D\"\\'>\\n         D\\n        </a>\\n       </li>\\n       <li>\\n        <a href=\"/movies_letter-E\" title=\\'Movies transcripts starting with letter \"E\"\\'>\\n         E\\n        </a>\\n       </li>\\n       <li>\\n        <a href=\"/movies_letter-F\" title=\\'Movies transcripts starting with letter \"F\"\\'>\\n         F\\n        </a>\\n       </li>\\n       <li>\\n        <a href=\"/movies_letter-G\" title=\\'Movies transcripts starting with letter \"G\"\\'>\\n         G\\n        </a>\\n       </li>\\n       <li>\\n        <a href=\"/movies_letter-H\" title=\\'Movies transcripts starting with letter \"H\"\\'>\\n         H\\n        </a>\\n       </li>\\n       <li>\\n        <a href=\"/movies_letter-I\" title=\\'Movies transcripts starting with letter \"I\"\\'>\\n         I\\n        </a>\\n       </li>\\n       <li>\\n        <a href=\"/movies_letter-J\" title=\\'Movies transcripts starting with letter \"J\"\\'>\\n         J\\n        </a>\\n       </li>\\n       <li>\\n        <a href=\"/movies_letter-K\" title=\\'Movies transcripts starting with letter \"K\"\\'>\\n         K\\n        </a>\\n       </li>\\n       <li>\\n        <a href=\"/movies_letter-L\" title=\\'Movies transcripts starting with letter \"L\"\\'>\\n         L\\n        </a>\\n       </li>\\n       <li>\\n        <a href=\"/movies_letter-M\" title=\\'Movies transcripts starting with letter \"M\"\\'>\\n         M\\n        </a>\\n       </li>\\n       <li>\\n        <a href=\"/movies_letter-N\" title=\\'Movies transcripts starting with letter \"N\"\\'>\\n         N\\n        </a>\\n       </li>\\n       <li>\\n        <a href=\"/movies_letter-O\" title=\\'Movies transcripts starting with letter \"O\"\\'>\\n         O\\n        </a>\\n       </li>\\n       <li>\\n        <a href=\"/movies_letter-P\" title=\\'Movies transcripts starting with letter \"P\"\\'>\\n         P\\n        </a>\\n       </li>\\n       <li>\\n        <a href=\"/movies_letter-Q\" title=\\'Movies transcripts starting with letter \"Q\"\\'>\\n         Q\\n        </a>\\n       </li>\\n       <li>\\n        <a href=\"/movies_letter-R\" title=\\'Movies transcripts starting with letter \"R\"\\'>\\n         R\\n        </a>\\n       </li>\\n       <li>\\n        <a href=\"/movies_letter-S\" title=\\'Movies transcripts starting with letter \"S\"\\'>\\n         S\\n        </a>\\n       </li>\\n       <li>\\n        <a href=\"/movies_letter-T\" title=\\'Movies transcripts starting with letter \"T\"\\'>\\n         T\\n        </a>\\n       </li>\\n       <li>\\n        <a href=\"/movies_letter-U\" title=\\'Movies transcripts starting with letter \"U\"\\'>\\n         U\\n        </a>\\n       </li>\\n       <li>\\n        <a href=\"/movies_letter-V\" title=\\'Movies transcripts starting with letter \"V\"\\'>\\n         V\\n        </a>\\n       </li>\\n       <li>\\n        <a href=\"/movies_letter-W\" title=\\'Movies transcripts starting with letter \"W\"\\'>\\n         W\\n        </a>\\n       </li>\\n       <li>\\n        <a href=\"/movies_letter-X\" title=\\'Movies transcripts starting with letter \"X\"\\'>\\n         X\\n        </a>\\n       </li>\\n       <li>\\n        <a href=\"/movies_letter-Y\" title=\\'Movies transcripts starting with letter \"Y\"\\'>\\n         Y\\n        </a>\\n       </li>\\n       <li>\\n        <a href=\"/movies_letter-Z\" title=\\'Movies transcripts starting with letter \"Z\"\\'>\\n         Z\\n        </a>\\n       </li>\\n      </ul>\\n     </nav>\\n     <nav class=\"pagination_pages\">\\n      <nav>\\n       <ul class=\"pagination\">\\n        <li aria-disabled=\"true\" aria-label=\"« Previous\" class=\"page-item disabled\">\\n         <span aria-hidden=\"true\" class=\"page-link\">\\n          ‹\\n         </span>\\n        </li>\\n        <li aria-current=\"page\" class=\"page-item active\">\\n         <span class=\"page-link\">\\n          1\\n         </span>\\n        </li>\\n        <li class=\"page-item\">\\n         <a class=\"page-link\" href=\"https://subslikescript.com/movies?page=2\">\\n          2\\n         </a>\\n        </li>\\n        <li class=\"page-item\">\\n         <a class=\"page-link\" href=\"https://subslikescript.com/movies?page=3\">\\n          3\\n         </a>\\n        </li>\\n        <li class=\"page-item\">\\n         <a class=\"page-link\" href=\"https://subslikescript.com/movies?page=4\">\\n          4\\n         </a>\\n        </li>\\n        <li class=\"page-item\">\\n         <a class=\"page-link\" href=\"https://subslikescript.com/movies?page=5\">\\n          5\\n         </a>\\n        </li>\\n        <li class=\"page-item\">\\n         <a class=\"page-link\" href=\"https://subslikescript.com/movies?page=6\">\\n          6\\n         </a>\\n        </li>\\n        <li class=\"page-item\">\\n         <a class=\"page-link\" href=\"https://subslikescript.com/movies?page=7\">\\n          7\\n         </a>\\n        </li>\\n        <li class=\"page-item\">\\n         <a class=\"page-link\" href=\"https://subslikescript.com/movies?page=8\">\\n          8\\n         </a>\\n        </li>\\n        <li class=\"page-item\">\\n         <a class=\"page-link\" href=\"https://subslikescript.com/movies?page=9\">\\n          9\\n         </a>\\n        </li>\\n        <li class=\"page-item\">\\n         <a class=\"page-link\" href=\"https://subslikescript.com/movies?page=10\">\\n          10\\n         </a>\\n        </li>\\n        <li aria-disabled=\"true\" class=\"page-item disabled\">\\n         <span class=\"page-link\">\\n          ...\\n         </span>\\n        </li>\\n        <li class=\"page-item\">\\n         <a class=\"page-link\" href=\"https://subslikescript.com/movies?page=1992\">\\n          1992\\n         </a>\\n        </li>\\n        <li class=\"page-item\">\\n         <a class=\"page-link\" href=\"https://subslikescript.com/movies?page=1993\">\\n          1993\\n         </a>\\n        </li>\\n        <li class=\"page-item\">\\n         <a aria-label=\"Next »\" class=\"page-link\" href=\"https://subslikescript.com/movies?page=2\" rel=\"next\">\\n          ›\\n         </a>\\n        </li>\\n       </ul>\\n      </nav>\\n     </nav>\\n     <article class=\"main-article\">\\n      <h1>\\n       All Movies\\' Scripts\\n      </h1>\\n      <ul class=\"scripts-list\">\\n       <li>\\n        <a href=\"/movie/Me_Too-1289449\" title=\"Read transcript of Movie \\'Me Too\\'\">\\n         Me Too (2009)\\n        </a>\\n       </li>\\n       <li>\\n        <a href=\"/movie/Dustbin_Baby-1325734\" title=\"Read transcript of Movie \\'Dustbin Baby\\'\">\\n         Dustbin Baby (2008)\\n        </a>\\n       </li>\\n       <li>\\n        <a href=\"/movie/Tilt-1680019\" title=\"Read transcript of Movie \\'Tilt\\'\">\\n         Tilt (2010)\\n        </a>\\n       </li>\\n       <li>\\n        <a href=\"/movie/Sexy_Boys-282155\" title=\"Read transcript of Movie \\'Sexy Boys\\'\">\\n         Sexy Boys (2001)\\n        </a>\\n       </li>\\n       <script async=\"\" crossorigin=\"anonymous\" src=\"https://pagead2.googlesyndication.com/pagead/js/adsbygoogle.js?client=ca-pub-9736463211397065\">\\n       </script>\\n       <!-- content_before_content_square_adaptive -->\\n       <ins class=\"adsbygoogle\" data-ad-client=\"ca-pub-9736463211397065\" data-ad-format=\"auto\" data-ad-slot=\"9732296380\" data-full-width-responsive=\"true\" style=\"display:block\">\\n       </ins>\\n       <script>\\n        (adsbygoogle = window.adsbygoogle || []).push({});\\n       </script>\\n       <li>\\n        <a href=\"/movie/Devarattam-8011346\" title=\"Read transcript of Movie \\'Devarattam\\'\">\\n         Devarattam (2019)\\n        </a>\\n       </li>\\n       <li>\\n        <a href=\"/movie/Prathi_Poovankozhi-11312700\" title=\"Read transcript of Movie \\'Prathi Poovankozhi\\'\">\\n         Prathi Poovankozhi (2019)\\n        </a>\\n       </li>\\n       <li>\\n        <a href=\"/movie/Choosi_Choodangaane-11301882\" title=\"Read transcript of Movie \\'Choosi Choodangaane\\'\">\\n         Choosi Choodangaane (2020)\\n        </a>\\n       </li>\\n       <li>\\n        <a href=\"/movie/Big_Daddy-142342\" title=\"Read transcript of Movie \\'Big Daddy\\'\">\\n         Big Daddy (1999)\\n        </a>\\n       </li>\\n       <li>\\n        <a href=\"/movie/Sis_dies_corrents-9310606\" title=\"Read transcript of Movie \\'Sis dies corrents\\'\">\\n         Sis dies corrents (2021)\\n        </a>\\n       </li>\\n       <li>\\n        <a href=\"/movie/A_Good_Person-14153080\" title=\"Read transcript of Movie \\'A Good Person\\'\">\\n         A Good Person (2023)\\n        </a>\\n       </li>\\n       <li>\\n        <a href=\"/movie/Like_Mike-308506\" title=\"Read transcript of Movie \\'Like Mike\\'\">\\n         Like Mike (2002)\\n        </a>\\n       </li>\\n       <li>\\n        <a href=\"/movie/16_Blocks-450232\" title=\"Read transcript of Movie \\'16 Blocks\\'\">\\n         16 Blocks (2006)\\n        </a>\\n       </li>\\n       <li>\\n        <a href=\"/movie/The_Twilight_Saga_New_Moon-1259571\" title=\"Read transcript of Movie \\'The Twilight Saga: New Moon\\'\">\\n         The Twilight Saga: New Moon (2009)\\n        </a>\\n       </li>\\n       <li>\\n        <a href=\"/movie/My_Little_Pony_Equestria_Girls_-_Legend_of_Everfree-5474644\" title=\"Read transcript of Movie \\'My Little Pony: Equestria Girls - Legend of Everfree\\'\">\\n         My Little Pony: Equestria Girls - Legend of Everfree (2016)\\n        </a>\\n       </li>\\n       <li>\\n        <a href=\"/movie/Girls_on_Probation-30183\" title=\"Read transcript of Movie \\'Girls on Probation\\'\">\\n         Girls on Probation (1938)\\n        </a>\\n       </li>\\n       <li>\\n        <a href=\"/movie/Lady_Jane-996956\" title=\"Read transcript of Movie \\'Lady Jane\\'\">\\n         Lady Jane (2008)\\n        </a>\\n       </li>\\n       <li>\\n        <a href=\"/movie/20_Days_in_Mariupol-24082438\" title=\"Read transcript of Movie \\'20 Days in Mariupol\\'\">\\n         20 Days in Mariupol (2023)\\n        </a>\\n       </li>\\n       <li>\\n        <a href=\"/movie/Lui__peggio_di_me-87653\" title=\"Read transcript of Movie \\'Lui è peggio di me\\'\">\\n         Lui è peggio di me (1985)\\n        </a>\\n       </li>\\n       <li>\\n        <a href=\"/movie/Garudan-27411198\" title=\"Read transcript of Movie \\'Garudan\\'\">\\n         Garudan (2023)\\n        </a>\\n       </li>\\n       <li>\\n        <a href=\"/movie/Space_Master_X-7-52228\" title=\"Read transcript of Movie \\'Space Master X-7\\'\">\\n         Space Master X-7 (1958)\\n        </a>\\n       </li>\\n       <li>\\n        <a href=\"/movie/The_Bartered_Bride-23657\" title=\"Read transcript of Movie \\'The Bartered Bride\\'\">\\n         The Bartered Bride (1932)\\n        </a>\\n       </li>\\n       <script async=\"\" crossorigin=\"anonymous\" src=\"https://pagead2.googlesyndication.com/pagead/js/adsbygoogle.js?client=ca-pub-9736463211397065\">\\n       </script>\\n       <!-- content_before_content_square_adaptive -->\\n       <ins class=\"adsbygoogle\" data-ad-client=\"ca-pub-9736463211397065\" data-ad-format=\"auto\" data-ad-slot=\"9732296380\" data-full-width-responsive=\"true\" style=\"display:block\">\\n       </ins>\\n       <script>\\n        (adsbygoogle = window.adsbygoogle || []).push({});\\n       </script>\\n       <li>\\n        <a href=\"/movie/Lady_Ballers-30216176\" title=\"Read transcript of Movie \\'Lady Ballers\\'\">\\n         Lady Ballers (2023)\\n        </a>\\n       </li>\\n       <li>\\n        <a href=\"/movie/Cats_Eye-88889\" title=\"Read transcript of Movie \\'Cat\\'s Eye\\'\">\\n         Cat\\'s Eye (1985)\\n        </a>\\n       </li>\\n       <li>\\n        <a href=\"/movie/They_All_Laughed-83189\" title=\"Read transcript of Movie \\'They All Laughed\\'\">\\n         They All Laughed (1981)\\n        </a>\\n       </li>\\n       <li>\\n        <a href=\"/movie/The_Counterfeiters-1594510\" title=\"Read transcript of Movie \\'The Counterfeiters\\'\">\\n         The Counterfeiters (2010)\\n        </a>\\n       </li>\\n       <li>\\n        <a href=\"/movie/The_Whip_and_the_Body-57078\" title=\"Read transcript of Movie \\'The Whip and the Body\\'\">\\n         The Whip and the Body (1963)\\n        </a>\\n       </li>\\n       <li>\\n        <a href=\"/movie/Jigoku_no_mushi-187183\" title=\"Read transcript of Movie \\'Jigoku no mushi\\'\">\\n         Jigoku no mushi (1979)\\n        </a>\\n       </li>\\n       <li>\\n        <a href=\"/movie/The_Greatest-1226232\" title=\"Read transcript of Movie \\'The Greatest\\'\">\\n         The Greatest (2009)\\n        </a>\\n       </li>\\n       <li>\\n        <a href=\"/movie/The_Re-Education_of_Molly_Singer-12143990\" title=\"Read transcript of Movie \\'The Re-Education of Molly Singer\\'\">\\n         The Re-Education of Molly Singer (2023)\\n        </a>\\n       </li>\\n       <li>\\n        <a href=\"/movie/How_I_Learned_to_Fly-28487580\" title=\"Read transcript of Movie \\'How I Learned to Fly\\'\">\\n         How I Learned to Fly (2023)\\n        </a>\\n       </li>\\n      </ul>\\n     </article>\\n     <nav class=\"pagination_pages\">\\n      <nav>\\n       <ul class=\"pagination\">\\n        <li aria-disabled=\"true\" aria-label=\"« Previous\" class=\"page-item disabled\">\\n         <span aria-hidden=\"true\" class=\"page-link\">\\n          ‹\\n         </span>\\n        </li>\\n        <li aria-current=\"page\" class=\"page-item active\">\\n         <span class=\"page-link\">\\n          1\\n         </span>\\n        </li>\\n        <li class=\"page-item\">\\n         <a class=\"page-link\" href=\"https://subslikescript.com/movies?page=2\">\\n          2\\n         </a>\\n        </li>\\n        <li class=\"page-item\">\\n         <a class=\"page-link\" href=\"https://subslikescript.com/movies?page=3\">\\n          3\\n         </a>\\n        </li>\\n        <li class=\"page-item\">\\n         <a class=\"page-link\" href=\"https://subslikescript.com/movies?page=4\">\\n          4\\n         </a>\\n        </li>\\n        <li class=\"page-item\">\\n         <a class=\"page-link\" href=\"https://subslikescript.com/movies?page=5\">\\n          5\\n         </a>\\n        </li>\\n        <li class=\"page-item\">\\n         <a class=\"page-link\" href=\"https://subslikescript.com/movies?page=6\">\\n          6\\n         </a>\\n        </li>\\n        <li class=\"page-item\">\\n         <a class=\"page-link\" href=\"https://subslikescript.com/movies?page=7\">\\n          7\\n         </a>\\n        </li>\\n        <li class=\"page-item\">\\n         <a class=\"page-link\" href=\"https://subslikescript.com/movies?page=8\">\\n          8\\n         </a>\\n        </li>\\n        <li class=\"page-item\">\\n         <a class=\"page-link\" href=\"https://subslikescript.com/movies?page=9\">\\n          9\\n         </a>\\n        </li>\\n        <li class=\"page-item\">\\n         <a class=\"page-link\" href=\"https://subslikescript.com/movies?page=10\">\\n          10\\n         </a>\\n        </li>\\n        <li aria-disabled=\"true\" class=\"page-item disabled\">\\n         <span class=\"page-link\">\\n          ...\\n         </span>\\n        </li>\\n        <li class=\"page-item\">\\n         <a class=\"page-link\" href=\"https://subslikescript.com/movies?page=1992\">\\n          1992\\n         </a>\\n        </li>\\n        <li class=\"page-item\">\\n         <a class=\"page-link\" href=\"https://subslikescript.com/movies?page=1993\">\\n          1993\\n         </a>\\n        </li>\\n        <li class=\"page-item\">\\n         <a aria-label=\"Next »\" class=\"page-link\" href=\"https://subslikescript.com/movies?page=2\" rel=\"next\">\\n          ›\\n         </a>\\n        </li>\\n       </ul>\\n      </nav>\\n     </nav>\\n    </main>\\n    <div class=\"left-side\">\\n    </div>\\n    <div class=\"right-side\">\\n    </div>\\n   </div>\\n   <!--main-wrapper div ending-->\\n   <footer>\\n    <span class=\"contactus\">\\n     Have any questions? Contact us: subslikescript(doggysign)gmail.com |\\n     <a href=\"/dmca\">\\n      DMCA\\n     </a>\\n    </span>\\n   </footer>\\n  </div>\\n  <!-- wrapper ends -->\\n  <script>\\n   (function(){function c(){var b=a.contentDocument||a.contentWindow.document;if(b){var d=b.createElement(\\'script\\');d.innerHTML=\"window.__CF$cv$params={r:\\'8f860745cd3be231\\',t:\\'MTczNTI2ODA5MS4wMDAwMDA=\\'};var a=document.createElement(\\'script\\');a.nonce=\\'\\';a.src=\\'/cdn-cgi/challenge-platform/scripts/jsd/main.js\\';document.getElementsByTagName(\\'head\\')[0].appendChild(a);\";b.getElementsByTagName(\\'head\\')[0].appendChild(d)}}if(document.body){var a=document.createElement(\\'iframe\\');a.height=1;a.width=1;a.style.position=\\'absolute\\';a.style.top=0;a.style.left=0;a.style.border=\\'none\\';a.style.visibility=\\'hidden\\';document.body.appendChild(a);if(\\'loading\\'!==document.readyState)c();else if(window.addEventListener)document.addEventListener(\\'DOMContentLoaded\\',c);else{var e=document.onreadystatechange||function(){};document.onreadystatechange=function(b){e(b);\\'loading\\'!==document.readyState&&(document.onreadystatechange=e,c())}}}})();\\n  </script>\\n </body>\\n</html>\\n'"
      ]
     },
     "execution_count": 44,
     "metadata": {},
     "output_type": "execute_result"
    }
   ],
   "source": [
    "page = requests.get(root_web)\n",
    "content = page.text\n",
    "soup = BeautifulSoup(content , 'lxml')\n",
    "soup.prettify()"
   ]
  },
  {
   "cell_type": "markdown",
   "id": "638c31b6-f073-42e5-8711-92ce2c17ce44",
   "metadata": {},
   "source": [
    "# Pagination"
   ]
  },
  {
   "cell_type": "code",
   "execution_count": 46,
   "id": "1caaedf1-e04e-448f-8122-b2a6f6992b6d",
   "metadata": {},
   "outputs": [
    {
     "name": "stdout",
     "output_type": "stream",
     "text": [
      "Total pages: 1993\n"
     ]
    }
   ],
   "source": [
    "pagination = soup.find('ul' , class_ = 'pagination')\n",
    "page = pagination.find_all('li' , class_ = 'page-item')\n",
    "last_page = page[-2].text\n",
    "print(\"Total pages:\",last_page)"
   ]
  },
  {
   "cell_type": "markdown",
   "id": "7d7d7b04-4d16-4a55-b786-f906faf006bd",
   "metadata": {},
   "source": [
    "### Reference - > \" https://subslikescript.com/movies_letter-A?page=1 \""
   ]
  },
  {
   "cell_type": "code",
   "execution_count": 48,
   "id": "ba834ed7-4900-47e2-92b3-b19f7b9b3331",
   "metadata": {},
   "outputs": [],
   "source": [
    "def user_interface(starting_char, page_no):\n",
    "    try:\n",
    "        root_wb = f\"https://subslikescript.com/movies_letter-{starting_char}?page={page_no}\"\n",
    "        print(f\"Fetching main page: {root_wb}\")\n",
    "        page = requests.get(root_wb)\n",
    "        page.raise_for_status()\n",
    "        soup = BeautifulSoup(page.text, 'lxml')\n",
    "        box = soup.find('article', class_='main-article')\n",
    "\n",
    "        if not box:\n",
    "            print(\"Main article box not found.\")\n",
    "            return\n",
    "\n",
    "        links = [link['href'] for link in box.find_all('a', href=True)]\n",
    "        print(f\"Found {len(links)} links.\")\n",
    "\n",
    "        cnt = 0\n",
    "        for link in links:\n",
    "            try:\n",
    "                website = f\"https://subslikescript.com{link}\"\n",
    "                print(f\"Processing: {website}\")\n",
    "                result = requests.get(website)\n",
    "                result.raise_for_status()\n",
    "                soup = BeautifulSoup(result.text, 'lxml')\n",
    "                box = soup.find('article', class_='main-article')\n",
    "                if not box:\n",
    "                    print(f\"Article content missing for {website}\")\n",
    "                    continue\n",
    "\n",
    "                title = box.find('h1').get_text(strip=True)\n",
    "                transcript = box.find('div', class_='full-script').get_text(separator=' ', strip=True)\n",
    "\n",
    "                filename = title.replace('/', '_') + \".txt\" \n",
    "                with open(filename, 'w', encoding='utf-8', errors='replace') as file:\n",
    "                    file.write(transcript)\n",
    "                print(f\"{filename} successfully created.\")\n",
    "                cnt += 1\n",
    "            except Exception as e:\n",
    "                print(f\"Error processing {link}: {e}\")\n",
    "\n",
    "        print(\"Total files created by scraping is :\", cnt)\n",
    "\n",
    "    except requests.exceptions.RequestException as e:\n",
    "        print(f\"Error fetching main page: {e}\")\n",
    "    except Exception as e:\n",
    "        print(f\"Unexpected error: {e}\")"
   ]
  },
  {
   "cell_type": "code",
   "execution_count": 49,
   "id": "9acfd0de-c6ed-4d94-97e0-996d81f9706b",
   "metadata": {
    "scrolled": true
   },
   "outputs": [
    {
     "name": "stdin",
     "output_type": "stream",
     "text": [
      "Enter the starting letter : A\n",
      "Enter the page no from which you want to scrap: 5\n"
     ]
    },
    {
     "name": "stdout",
     "output_type": "stream",
     "text": [
      "Fetching main page: https://subslikescript.com/movies_letter-A?page=5\n",
      "Found 30 links.\n",
      "Processing: https://subslikescript.com/movie/A_Child_of_Yours-2294929\n",
      "A Child of Yours (2012) - full transcript.txt successfully created.\n",
      "Processing: https://subslikescript.com/movie/A_Childs_Christmas_in_Wales-172238\n",
      "A Child's Christmas in Wales (1987) - full transcript.txt successfully created.\n",
      "Processing: https://subslikescript.com/movie/A_Chinese_Ghost_Story-93978\n",
      "A Chinese Ghost Story (1987) - full transcript.txt successfully created.\n",
      "Processing: https://subslikescript.com/movie/A_Chinese_Ghost_Story-125037\n",
      "A Chinese Ghost Story (1997) - full transcript.txt successfully created.\n",
      "Processing: https://subslikescript.com/movie/A_Chinese_Ghost_Story_II-100625\n",
      "A Chinese Ghost Story II (1990) - full transcript.txt successfully created.\n",
      "Processing: https://subslikescript.com/movie/A_Chinese_Ghost_Story_III-102932\n",
      "A Chinese Ghost Story III (1991) - full transcript.txt successfully created.\n",
      "Processing: https://subslikescript.com/movie/A_Chinese_Odyssey_Part_One_Pandoras_Box-112778\n",
      "A Chinese Odyssey Part One: Pandora's Box (1995) - full transcript.txt successfully created.\n",
      "Processing: https://subslikescript.com/movie/A_Chinese_Odyssey_Part_Two_Cinderella-114996\n",
      "A Chinese Odyssey Part Two: Cinderella (1995) - full transcript.txt successfully created.\n",
      "Processing: https://subslikescript.com/movie/A_Chinese_Odyssey_Part_Three-4862468\n",
      "A Chinese Odyssey: Part Three (2016) - full transcript.txt successfully created.\n",
      "Processing: https://subslikescript.com/movie/A_Chinese_Tall_Story-469050\n",
      "A Chinese Tall Story (2005) - full transcript.txt successfully created.\n",
      "Processing: https://subslikescript.com/movie/A_Chinese_Torture_Chamber_Story-113757\n",
      "A Chinese Torture Chamber Story (1994) - full transcript.txt successfully created.\n",
      "Processing: https://subslikescript.com/movie/A_Chipmunk_Christmas-1146433\n",
      "A Chipmunk Christmas (1981) - full transcript.txt successfully created.\n",
      "Processing: https://subslikescript.com/movie/A_Chivalrous_Spirit-1272042\n",
      "A Chivalrous Spirit (1958) - full transcript.txt successfully created.\n",
      "Processing: https://subslikescript.com/movie/A_Choice_of_Weapons_Inspired_by_Gordon_Parks-14495394\n",
      "A Choice of Weapons: Inspired by Gordon Parks (2021) - full transcript.txt successfully created.\n",
      "Processing: https://subslikescript.com/movie/A_Choo-12689526\n",
      "A Choo (2020) - full transcript.txt successfully created.\n",
      "Processing: https://subslikescript.com/movie/A_Chorus_of_Disapproval-94871\n",
      "A Chorus of Disapproval (1989) - full transcript.txt successfully created.\n",
      "Processing: https://subslikescript.com/movie/A_Chosen_Cricket-438664\n",
      "A Chosen Cricket (1975) - full transcript.txt successfully created.\n",
      "Processing: https://subslikescript.com/movie/A_Christmas_Arrangement-8672786\n",
      "A Christmas Arrangement (2018) - full transcript.txt successfully created.\n",
      "Processing: https://subslikescript.com/movie/A_Christmas_Break-13342180\n",
      "A Christmas Break (2020) - full transcript.txt successfully created.\n",
      "Processing: https://subslikescript.com/movie/A_Christmas_Cancellation-11764856\n",
      "A Christmas Cancellation (2020) - full transcript.txt successfully created.\n",
      "Processing: https://subslikescript.com/movie/A_Christmas_Carol-1067106\n",
      "A Christmas Carol (2009) - full transcript.txt successfully created.\n",
      "Processing: https://subslikescript.com/movie/A_Christmas_Carol-87056\n",
      "A Christmas Carol (1984) - full transcript.txt successfully created.\n",
      "Processing: https://subslikescript.com/movie/A_Christmas_Carol-216621\n",
      "A Christmas Carol (1999) - full transcript.txt successfully created.\n",
      "Processing: https://subslikescript.com/movie/A_Christmas_Carol-4387314\n",
      "A Christmas Carol (2018) - full transcript.txt successfully created.\n",
      "Processing: https://subslikescript.com/movie/A_Christmas_Carol-112668\n",
      "A Christmas Carol (1997) - full transcript.txt successfully created.\n",
      "Processing: https://subslikescript.com/movie/A_Christmas_Carol-9136058\n",
      "A Christmas Carol (2020) - full transcript.txt successfully created.\n",
      "Processing: https://subslikescript.com/movie/A_Christmas_Carol-29992\n",
      "A Christmas Carol (1938) - full transcript.txt successfully created.\n",
      "Processing: https://subslikescript.com/movie/A_Christmas_Carol-884793\n",
      "A Christmas Carol (1982) - full transcript.txt successfully created.\n",
      "Processing: https://subslikescript.com/movie/A_Christmas_Carol-44008\n",
      "A Christmas Carol (1951) - full transcript.txt successfully created.\n",
      "Processing: https://subslikescript.com/movie/A_Christmas_Carol_Goes_Wrong-7766092\n",
      "A Christmas Carol Goes Wrong (2017) - full transcript.txt successfully created.\n",
      "Total files created by scraping is : 30\n",
      "Scripting done successfully\n"
     ]
    }
   ],
   "source": [
    "char = input(\"Enter the starting letter :\")\n",
    "page_no = int(input(\"Enter the page no from which you want to scrap:\"))\n",
    "\n",
    "user_interface(char , page_no)\n",
    "print(\"Scripting done successfully\")"
   ]
  }
 ],
 "metadata": {
  "kernelspec": {
   "display_name": "Python 3 (ipykernel)",
   "language": "python",
   "name": "python3"
  },
  "language_info": {
   "codemirror_mode": {
    "name": "ipython",
    "version": 3
   },
   "file_extension": ".py",
   "mimetype": "text/x-python",
   "name": "python",
   "nbconvert_exporter": "python",
   "pygments_lexer": "ipython3",
   "version": "3.12.4"
  }
 },
 "nbformat": 4,
 "nbformat_minor": 5
}
